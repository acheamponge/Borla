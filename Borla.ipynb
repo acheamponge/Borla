{
 "cells": [
  {
   "cell_type": "markdown",
   "metadata": {},
   "source": [
    "<h1 style=\"color:Tomato;\"><center> BORLA</center></h1>\n"
   ]
  },
  {
   "cell_type": "markdown",
   "metadata": {},
   "source": [
    "<h2><center>A Data Visualization Platform For Ghana Waste Management</center></h2>\n"
   ]
  },
  {
   "cell_type": "markdown",
   "metadata": {},
   "source": [
    "![Trash](img/1.gif)"
   ]
  },
  {
   "cell_type": "markdown",
   "metadata": {},
   "source": [
    "![Trash2](img/2.gif)"
   ]
  },
  {
   "cell_type": "code",
   "execution_count": null,
   "metadata": {},
   "outputs": [],
   "source": []
  },
  {
   "cell_type": "code",
   "execution_count": 2,
   "metadata": {},
   "outputs": [],
   "source": [
    "# Import all necessary modules\n",
    "\n",
    "import csv\n",
    "import pandas as pd\n",
    "from nltk.corpus import stopwords \n",
    "from nltk.tokenize import word_tokenize \n",
    "from collections import Counter\n",
    "import matplotlib.pyplot as plt\n",
    "from wordcloud import WordCloud\n",
    "from plotly.offline import iplot, init_notebook_mode\n",
    "import plotly.graph_objs as go\n",
    "import plotly.io as pio\n",
    "import numpy as np\n",
    "import os\n",
    "import plotly.plotly as py\n",
    "\n",
    "\n",
    "%matplotlib inline "
   ]
  },
  {
   "cell_type": "code",
   "execution_count": 32,
   "metadata": {},
   "outputs": [],
   "source": [
    "# Read csv\n",
    "df = pd.read_csv('borla.csv')"
   ]
  },
  {
   "cell_type": "code",
   "execution_count": 33,
   "metadata": {},
   "outputs": [
    {
     "data": {
      "text/html": [
       "<div>\n",
       "<style scoped>\n",
       "    .dataframe tbody tr th:only-of-type {\n",
       "        vertical-align: middle;\n",
       "    }\n",
       "\n",
       "    .dataframe tbody tr th {\n",
       "        vertical-align: top;\n",
       "    }\n",
       "\n",
       "    .dataframe thead th {\n",
       "        text-align: right;\n",
       "    }\n",
       "</style>\n",
       "<table border=\"1\" class=\"dataframe\">\n",
       "  <thead>\n",
       "    <tr style=\"text-align: right;\">\n",
       "      <th></th>\n",
       "      <th>name</th>\n",
       "      <th>latitude</th>\n",
       "      <th>longitude</th>\n",
       "      <th>location</th>\n",
       "      <th>id</th>\n",
       "      <th>garbageSize</th>\n",
       "      <th>garbageDuration</th>\n",
       "      <th>picture</th>\n",
       "    </tr>\n",
       "  </thead>\n",
       "  <tbody>\n",
       "    <tr>\n",
       "      <th>0</th>\n",
       "      <td>Emmanuel</td>\n",
       "      <td>6.751843</td>\n",
       "      <td>-1.710017</td>\n",
       "      <td>Kumasi</td>\n",
       "      <td>\"92018304\"</td>\n",
       "      <td>\"S\"</td>\n",
       "      <td>\"5\"</td>\n",
       "      <td>\"Yes\"</td>\n",
       "    </tr>\n",
       "    <tr>\n",
       "      <th>1</th>\n",
       "      <td>Yaa</td>\n",
       "      <td>5.416667</td>\n",
       "      <td>-1.316667</td>\n",
       "      <td>Kakum</td>\n",
       "      <td>\"92018304\"</td>\n",
       "      <td>\"M\"</td>\n",
       "      <td>\"5\"</td>\n",
       "      <td>\"No\"</td>\n",
       "    </tr>\n",
       "    <tr>\n",
       "      <th>2</th>\n",
       "      <td>Kwame</td>\n",
       "      <td>8.300000</td>\n",
       "      <td>-2.366667</td>\n",
       "      <td>Bui</td>\n",
       "      <td>\"92018304\"</td>\n",
       "      <td>\"S\"</td>\n",
       "      <td>\"10\"</td>\n",
       "      <td>\"Yes\"</td>\n",
       "    </tr>\n",
       "    <tr>\n",
       "      <th>3</th>\n",
       "      <td>Kweku</td>\n",
       "      <td>5.866667</td>\n",
       "      <td>-0.183333</td>\n",
       "      <td>Aburi</td>\n",
       "      <td>\"92018304\"</td>\n",
       "      <td>\"L\"</td>\n",
       "      <td>\"1\"</td>\n",
       "      <td>\"No\"</td>\n",
       "    </tr>\n",
       "  </tbody>\n",
       "</table>\n",
       "</div>"
      ],
      "text/plain": [
       "       name  latitude  longitude location           id garbageSize  \\\n",
       "0  Emmanuel  6.751843  -1.710017   Kumasi   \"92018304\"         \"S\"   \n",
       "1       Yaa  5.416667  -1.316667    Kakum   \"92018304\"         \"M\"   \n",
       "2     Kwame  8.300000  -2.366667      Bui   \"92018304\"         \"S\"   \n",
       "3     Kweku  5.866667  -0.183333    Aburi   \"92018304\"         \"L\"   \n",
       "\n",
       "  garbageDuration picture  \n",
       "0             \"5\"   \"Yes\"  \n",
       "1             \"5\"    \"No\"  \n",
       "2            \"10\"   \"Yes\"  \n",
       "3             \"1\"    \"No\"  "
      ]
     },
     "execution_count": 33,
     "metadata": {},
     "output_type": "execute_result"
    }
   ],
   "source": [
    "df"
   ]
  },
  {
   "cell_type": "code",
   "execution_count": null,
   "metadata": {},
   "outputs": [],
   "source": []
  },
  {
   "cell_type": "code",
   "execution_count": null,
   "metadata": {},
   "outputs": [],
   "source": []
  }
 ],
 "metadata": {
  "kernelspec": {
   "display_name": "Python 3",
   "language": "python",
   "name": "python3"
  },
  "language_info": {
   "codemirror_mode": {
    "name": "ipython",
    "version": 3
   },
   "file_extension": ".py",
   "mimetype": "text/x-python",
   "name": "python",
   "nbconvert_exporter": "python",
   "pygments_lexer": "ipython3",
   "version": "3.7.0"
  }
 },
 "nbformat": 4,
 "nbformat_minor": 2
}
